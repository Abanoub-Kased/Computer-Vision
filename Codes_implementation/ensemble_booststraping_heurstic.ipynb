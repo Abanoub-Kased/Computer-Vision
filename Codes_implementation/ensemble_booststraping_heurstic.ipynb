{
 "cells": [
  {
   "cell_type": "code",
   "execution_count": 1,
   "metadata": {},
   "outputs": [],
   "source": [
    "import numpy as np \n",
    "import pandas as pd\n",
    "import matplotlib.pyplot as plt\n",
    "import tensorflow as tf\n",
    "from tensorflow import keras\n",
    "from sklearn.metrics import accuracy_score\n",
    "import random"
   ]
  },
  {
   "cell_type": "code",
   "execution_count": 14,
   "metadata": {},
   "outputs": [],
   "source": [
    "def load_feature_data(feature_name):\n",
    "    BATCH_SIZE = 32\n",
    "    IMG_SIZE = (224, 224)\n",
    "    feature = tf.keras.utils.image_dataset_from_directory(\"feature_images_30x30/{0}/test\".format(feature_name),\n",
    "                                                                batch_size=BATCH_SIZE,\n",
    "                                                                image_size=IMG_SIZE,\n",
    "                                                                shuffle=False)\n",
    "    return feature\n",
    "\n",
    "def load_network(network_name,feature_model):\n",
    "    if (network_name==\"NasNet\"):\n",
    "        model = tf.keras.models.load_model('{0}/{1}.h5'.format(network_name,feature_model), compile=False)\n",
    "    else:\n",
    "        model = tf.keras.models.load_model('{0}/{1}.h5'.format(network_name,feature_model))\n",
    "    return model\n",
    "\n",
    "def evaluation_prob(dataset,model):\n",
    "    val_images =[]\n",
    "    true_labels = []\n",
    "    for image, label in dataset.unbatch():\n",
    "        val_images.append(image)\n",
    "        true_labels.append(label)\n",
    "    val_images = np.array(val_images)\n",
    "    true_labels_arr = np.array(true_labels)\n",
    "    predictions_prob = model.predict(val_images)\n",
    "    return predictions_prob,true_labels_arr\n",
    "\n",
    "def calculate_acc(predictions,true_labels):\n",
    "    predict_labels = predictions.argmax(axis=1)\n",
    "    return accuracy_score(true_labels,predict_labels)\n"
   ]
  },
  {
   "cell_type": "code",
   "execution_count": 15,
   "metadata": {},
   "outputs": [],
   "source": [
    "features = ['D','S','A','H','DS','DA','DH','SA','SH','AH','DSA','DSH','DAH','SAH']\n",
    "networks = ['MobileNet-','EfficientNet-','ResNet-','NasNet-','DenseNet-']\n",
    "datasets = {}\n",
    "MobileNet_models = {}\n",
    "EfficientNet_models = {}\n",
    "ResNet_models = {}\n",
    "NasNet_models = {}\n",
    "DenseNet_models = {}\n",
    "margin_accuracy_vector = {}"
   ]
  },
  {
   "cell_type": "code",
   "execution_count": 16,
   "metadata": {},
   "outputs": [],
   "source": [
    "def load_feature_data_network(feature):\n",
    "    datasets[feature] = load_feature_data(feature)\n",
    "    MobileNet_models[feature] = load_network(\"MobileNet\",feature)\n",
    "    EfficientNet_models[feature] = load_network(\"EfficientNet\",feature)\n",
    "    ResNet_models[feature] = load_network(\"ResNet\",feature)\n",
    "    NasNet_models[feature] = load_network(\"NasNet\",feature)\n",
    "    DenseNet_models[feature] = load_network(\"DenseNet\",feature)"
   ]
  },
  {
   "cell_type": "code",
   "execution_count": 7,
   "metadata": {},
   "outputs": [],
   "source": [
    "# load all networks and data\n",
    "for i in features:\n",
    "    load_feature_data_network(i)\n",
    "# initalize all models vector\n",
    "for i in networks:\n",
    "    for j in features:\n",
    "        # compute the original accuracy of every model\n",
    "        if(i == 'MobileNet-'):\n",
    "            prob,true_label = evaluation_prob(datasets[j],MobileNet_models[j])\n",
    "        elif(i=='EfficientNet-'):\n",
    "            prob,true_label = evaluation_prob(datasets[j],EfficientNet_models[j])\n",
    "        elif(i == 'ResNet-'):\n",
    "            prob,true_label = evaluation_prob(datasets[j],ResNet_models[j])\n",
    "        elif(i=='NasNet-'):\n",
    "            prob,true_label = evaluation_prob(datasets[j],NasNet_models[j])\n",
    "        elif(i=='DenseNet-'):\n",
    "            prob,true_label = evaluation_prob(datasets[j],DenseNet_models[j])            \n",
    "        \n",
    "        accuracy = calculate_acc(prob,true_label)\n",
    "        margin_accuracy_vector[i+j] = [accuracy,1]           # [accuracy , count] "
   ]
  },
  {
   "cell_type": "code",
   "execution_count": 25,
   "metadata": {},
   "outputs": [],
   "source": [
    "# the number of time run the random number of models\n",
    "num_of_trail = 100\n",
    "# all models names\n",
    "models_names = margin_accuracy_vector.keys()\n",
    "max_accur = 0 \n",
    "for i in range(0,num_of_trail):\n",
    "    num_of_models =random.randint(2,10)\n",
    "    # get random model\n",
    "    random_models= random.sample(list(models_names),num_of_models)\n",
    "    # accuracy of all models\n",
    "    probability_of_all = 0\n",
    "    for i in random_models:\n",
    "        model_feature = i.split('-')        # split the name to the network and feature\n",
    "        f = model_feature[1]\n",
    "        if(model_feature[0] == 'MobileNet'):\n",
    "            prob,true_label = evaluation_prob(datasets[f],MobileNet_models[f])\n",
    "        elif(model_feature[0]=='EfficientNet'):\n",
    "            prob,true_label = evaluation_prob(datasets[f],EfficientNet_models[f])\n",
    "        elif(model_feature[0] == 'ResNet'):\n",
    "            prob,true_label = evaluation_prob(datasets[f],ResNet_models[f])\n",
    "        elif(model_feature[0]=='NasNet'):\n",
    "            prob,true_label = evaluation_prob(datasets[f],NasNet_models[f])\n",
    "        elif(model_feature[0]=='DenseNet'):\n",
    "            prob,true_label = evaluation_prob(datasets[f],DenseNet_models[f])\n",
    "        probability_of_all += np.log(prob)\n",
    "    accuracy = calculate_acc(probability_of_all,true_label)\n",
    "    if(accuracy>max_accur):\n",
    "        max_combination = random_models\n",
    "        max_accur = accuracy      \n",
    "    # add accuracy to the randome models and increase counter\n",
    "    for i in random_models:\n",
    "        margin_accuracy_vector[i][0] += accuracy\n",
    "        margin_accuracy_vector[i][1] += 1"
   ]
  },
  {
   "cell_type": "code",
   "execution_count": null,
   "metadata": {},
   "outputs": [],
   "source": [
    "models_margin_accuracy = {}\n",
    "models_names = margin_accuracy_vector.keys() \n",
    "for i in models_names:\n",
    "    models_margin_accuracy[i] = margin_accuracy_vector[i][0] / margin_accuracy_vector[i][1]"
   ]
  },
  {
   "cell_type": "code",
   "execution_count": null,
   "metadata": {},
   "outputs": [],
   "source": [
    "combinations_dict = {}\n",
    "# sort models by margin accuracy value\n",
    "ranked_models = sorted(models_margin_accuracy.items(), key=lambda x:x[1],reverse=True)\n",
    "# perform step wise\n",
    "for j in range(1,71):\n",
    "    step_wise_models = []\n",
    "    for i in range(0,j):        \n",
    "        step_wise_models.append(ranked_models[i][0])\n",
    "    probability_of_all = 0\n",
    "    for model in step_wise_models:\n",
    "        model_feature = model.split('-')        # split the name to the network and feature\n",
    "        f = model_feature[1]\n",
    "        if(model_feature[0] == 'MobileNet'):\n",
    "            prob,true_label = evaluation_prob(datasets[f],MobileNet_models[f])\n",
    "        elif(model_feature[0]=='EfficientNet'):\n",
    "            prob,true_label = evaluation_prob(datasets[f],EfficientNet_models[f])\n",
    "        elif(model_feature[0] == 'ResNet'):\n",
    "            prob,true_label = evaluation_prob(datasets[f],ResNet_models[f])\n",
    "        elif(model_feature[0]=='NasNet'):\n",
    "            prob,true_label = evaluation_prob(datasets[f],NasNet_models[f])\n",
    "        elif(model_feature[0]=='DenseNet'):\n",
    "            prob,true_label = evaluation_prob(datasets[f],DenseNet_models[f])\n",
    "        probability_of_all += np.log(prob)\n",
    "    accuracy = calculate_acc(probability_of_all,true_label)\n",
    "    combinations_dict[str(j)] = [step_wise_models,accuracy] "
   ]
  },
  {
   "cell_type": "code",
   "execution_count": null,
   "metadata": {},
   "outputs": [],
   "source": []
  }
 ],
 "metadata": {
  "kernelspec": {
   "display_name": "Python 3",
   "language": "python",
   "name": "python3"
  },
  "language_info": {
   "codemirror_mode": {
    "name": "ipython",
    "version": 3
   },
   "file_extension": ".py",
   "mimetype": "text/x-python",
   "name": "python",
   "nbconvert_exporter": "python",
   "pygments_lexer": "ipython3",
   "version": "3.9.5"
  },
  "orig_nbformat": 4,
  "vscode": {
   "interpreter": {
    "hash": "11938c6bc6919ae2720b4d5011047913343b08a43b18698fd82dedb0d4417594"
   }
  }
 },
 "nbformat": 4,
 "nbformat_minor": 2
}
