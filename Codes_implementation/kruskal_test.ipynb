{
 "cells": [
  {
   "cell_type": "code",
   "execution_count": null,
   "metadata": {},
   "outputs": [],
   "source": [
    "import scipy.stats as st\n",
    "import numpy as np\n",
    "import matplotlib.pyplot as plt\n",
    "import seaborn as sns"
   ]
  },
  {
   "cell_type": "code",
   "execution_count": null,
   "metadata": {},
   "outputs": [],
   "source": [
    "## train on T-drive\n",
    "############################################################################\n",
    "t_drive = np.array([89.8, 96.4, 93, 96.8])           # values of test on t drive\n",
    "cabspotting = np.array([90.5, 89.5, 91.75, 89.75])      # values of test on cabspotting\n",
    "kaggle = np.array([71.5, 75, 74, 74])           # values of test on kaggle\n",
    "############################################################################\n",
    "plt.figure(figsize=(9,5))\n",
    "sns.kdeplot(t_drive,shade=True,color='black')\n",
    "sns.kdeplot(cabspotting,shade=True,color='red')\n",
    "sns.kdeplot(kaggle,shade=True,color='Blue')\n",
    "plt.legend(['test on T-drive','test on Cabspotting','test on ECML-PKDD 15'],fontsize=8)\n",
    "plt.vlines(x=t_drive.mean(),ymin=0,ymax=0.09,color='black',linestyle='--')\n",
    "plt.vlines(x=cabspotting.mean(),ymin=0,ymax=0.09,color='red',linestyle='--')\n",
    "plt.vlines(x=kaggle.mean(),ymin=0,ymax=0.09,color='Blue',linestyle='--')\n",
    "plt.title('Train on T-drive')\n",
    "plt.figtext(0.5, -0.03, \"hypothesis of same distribution\", ha=\"center\", fontsize=12, bbox={\"facecolor\":\"white\", \"alpha\":0.5, \"pad\":5})\n",
    "_,p_1=st.kruskal(t_drive,cabspotting)\n",
    "_,p_2=st.kruskal(t_drive,kaggle)\n",
    "p_1_con=\"reject\"\n",
    "p_2_con=\"reject\"\n",
    "if p_1>0.05:\n",
    "    p_1_con=\"fails to reject\"\n",
    "if p_2>0.05:\n",
    "    p_2_con=\"fails to reject\"\n",
    "plt.figtext(0.1, -0.1,\"- p-value for T-drive and Capsbotting : {:.3f}, {}\".format(p_1, p_1_con),fontsize=12)\n",
    "plt.figtext(0.1, -0.15,\"- p-value for T-drive and ECMl-PKDD : {:.3f}, {}\".format(p_2, p_2_con),fontsize=12)\n",
    "plt.savefig(\"t_drive.jpg\", bbox_inches=\"tight\", format='jpg')\n",
    "plt.show()"
   ]
  },
  {
   "cell_type": "code",
   "execution_count": null,
   "metadata": {},
   "outputs": [],
   "source": [
    "## train on cabspotting\n",
    "############################################################################\n",
    "t_drive = np.array([86.75, 88.5, 87.5, 88])            # values of test on t drive\n",
    "cabspotting = np.array([78.2, 96.8, 97.6, 98.2])            # values of test on cabspotting\n",
    "kaggle = np.array([84, 89, 90.5, 88.75])                  # values of test on kaggle\n",
    "############################################################################\n",
    "plt.figure(figsize=(9,5))\n",
    "sns.kdeplot(t_drive,shade=True,color='black')\n",
    "sns.kdeplot(cabspotting,shade=True,color='red')\n",
    "sns.kdeplot(kaggle,shade=True,color='Blue')\n",
    "plt.legend(['test on T-drive','test on Cabspotting','test on ECML-PKDD 15'],fontsize=8)\n",
    "plt.vlines(x=t_drive.mean(),ymin=0,ymax=0.09,color='black',linestyle='--')\n",
    "plt.vlines(x=cabspotting.mean(),ymin=0,ymax=0.09,color='red',linestyle='--')\n",
    "plt.vlines(x=kaggle.mean(),ymin=0,ymax=0.09,color='Blue',linestyle='--')\n",
    "plt.title('Train on Cabspotting')\n",
    "plt.figtext(0.5, -0.03, \"hypothesis of same distribution\", ha=\"center\", fontsize=12, bbox={\"facecolor\":\"white\", \"alpha\":0.5, \"pad\":5})\n",
    "_,p_1=st.kruskal(cabspotting,t_drive)\n",
    "_,p_2=st.kruskal(cabspotting,kaggle)\n",
    "p_1_con=\"reject\"\n",
    "p_2_con=\"reject\"\n",
    "if p_1>0.05:\n",
    "    p_1_con=\"fails to reject\"\n",
    "if p_2>0.05:\n",
    "    p_2_con=\"fails to reject\"\n",
    "plt.figtext(0.1, -0.1,\"- p-value for Capsbotting and T-drive : {:.3f}, {}\".format(p_1, p_1_con),fontsize=12)\n",
    "plt.figtext(0.1, -0.15,\"- p-value for Capsbotting and ECMl-PKDD : {:.3f}, {}\".format(p_2, p_2_con),fontsize=12)\n",
    "plt.savefig(\"Cabspotting.jpg\", bbox_inches=\"tight\", format='jpg')\n",
    "plt.show()"
   ]
  },
  {
   "cell_type": "code",
   "execution_count": null,
   "metadata": {},
   "outputs": [],
   "source": [
    "## train on kaggle\n",
    "############################################################################\n",
    "t_drive = np.array([88.25, 87, 89, 89.5])               # values of test on t drive\n",
    "cabspotting = np.array([91.75, 94.25, 92.25, 93.75])            # values of test on cabspotting\n",
    "kaggle = np.array([92, 88.8, 89.6, 92.6])                      # values of test on kaggle\n",
    "############################################################################\n",
    "plt.figure(figsize=(9,5))\n",
    "sns.kdeplot(t_drive,shade=True,color='black')\n",
    "sns.kdeplot(cabspotting,shade=True,color='red')\n",
    "sns.kdeplot(kaggle,shade=True,color='Blue')\n",
    "plt.legend(['test on T-drive','test on Cabspotting','test on ECML-PKDD 15'],fontsize=8)\n",
    "plt.vlines(x=t_drive.mean(),ymin=0,ymax=0.09,color='black',linestyle='--')\n",
    "plt.vlines(x=cabspotting.mean(),ymin=0,ymax=0.09,color='red',linestyle='--')\n",
    "plt.vlines(x=kaggle.mean(),ymin=0,ymax=0.09,color='Blue',linestyle='--')\n",
    "plt.title('Train on ECML-PKDD 15')\n",
    "plt.figtext(0.5, -0.03, \"hypothesis of same distribution\", ha=\"center\", fontsize=12, bbox={\"facecolor\":\"white\", \"alpha\":0.5, \"pad\":5})\n",
    "_,p_1=st.kruskal(kaggle,t_drive)\n",
    "_,p_2=st.kruskal(kaggle,cabspotting)\n",
    "p_1_con=\"reject\"\n",
    "p_2_con=\"reject\"\n",
    "if p_1>0.05:\n",
    "    p_1_con=\"fails to reject\"\n",
    "if p_2>0.05:\n",
    "    p_2_con=\"fails to reject\"\n",
    "plt.figtext(0.1, -0.1,\"- p-value for ECML-PKDD  and T-drive : {:.3f}, {}\".format(p_1, p_1_con),fontsize=12)\n",
    "plt.figtext(0.1, -0.15,\"- p-value for ECML-PKDD  and Cabspotting : {:.3f}, {}\".format(p_2, p_2_con),fontsize=12)\n",
    "plt.savefig(\"kaggle.jpg\", bbox_inches=\"tight\", format='jpg')\n",
    "plt.show()"
   ]
  },
  {
   "cell_type": "code",
   "execution_count": null,
   "metadata": {},
   "outputs": [],
   "source": []
  }
 ],
 "metadata": {
  "kernelspec": {
   "display_name": "Python 3.9.5 64-bit",
   "language": "python",
   "name": "python3"
  },
  "language_info": {
   "codemirror_mode": {
    "name": "ipython",
    "version": 3
   },
   "file_extension": ".py",
   "mimetype": "text/x-python",
   "name": "python",
   "nbconvert_exporter": "python",
   "pygments_lexer": "ipython3",
   "version": "3.9.5"
  },
  "orig_nbformat": 4,
  "vscode": {
   "interpreter": {
    "hash": "11938c6bc6919ae2720b4d5011047913343b08a43b18698fd82dedb0d4417594"
   }
  }
 },
 "nbformat": 4,
 "nbformat_minor": 2
}
