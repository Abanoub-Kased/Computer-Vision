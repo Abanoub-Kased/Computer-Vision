{
  "cells": [
    {
      "cell_type": "code",
      "execution_count": null,
      "metadata": {
        "id": "DNfeLD94jy_Z"
      },
      "outputs": [],
      "source": [
        "#required modules\n",
        "import numpy as np\n",
        "import pandas as pd\n",
        "import os\n",
        "import random\n",
        "from matplotlib import pyplot as plt\n",
        "from  sklearn.preprocessing import MinMaxScaler\n",
        "import seaborn as sns\n",
        "from datetime import datetime\n",
        "from datetime import timedelta\n",
        "\n",
        "#customized moduless filt\n",
        "from ptrail.core.TrajectoryDF import PTRAILDataFrame\n",
        "from ptrail.core.Datasets import Datasets\n",
        "from ptrail.features.kinematic_features import KinematicFeatures as kinematic\n",
        "from ptrail.preprocessing.filters import Filters as filt"
      ]
    },
    {
      "cell_type": "code",
      "execution_count": null,
      "metadata": {
        "id": "5iaCmM-ljY1a"
      },
      "outputs": [],
      "source": [
        "!cp drive/MyDrive/project_codes/DATASETS/train.csv ."
      ]
    },
    {
      "cell_type": "code",
      "execution_count": null,
      "metadata": {
        "colab": {
          "base_uri": "https://localhost:8080/",
          "height": 206
        },
        "id": "kD1J0Cdgv9yx",
        "outputId": "08b95084-2dc6-4540-cc19-51f63ca5dbd6"
      },
      "outputs": [],
      "source": [
        "df=pd.read_csv('train.csv')\n",
        "df.head()"
      ]
    },
    {
      "cell_type": "code",
      "execution_count": null,
      "metadata": {
        "colab": {
          "base_uri": "https://localhost:8080/"
        },
        "id": "joZwIRgB0NFW",
        "outputId": "d56b7229-fe63-4b34-f4c3-d4b42009f06f"
      },
      "outputs": [],
      "source": [
        "len(df)"
      ]
    },
    {
      "cell_type": "code",
      "execution_count": null,
      "metadata": {
        "id": "n2ka8E8_4hrC"
      },
      "outputs": [],
      "source": [
        "start=0\n",
        "end=400000\n",
        "for j in range(start,end,100000):\n",
        "  flag=False\n",
        "\n",
        "  for i in range(j,j+100000):\n",
        "\n",
        "      trip=df.iloc[i]\n",
        "      #list of longitude and latiude  at original time stamp\n",
        "      trip_location=trip['POLYLINE']\n",
        "      value =eval(trip_location.split()[0])\n",
        "      base_time=datetime.fromtimestamp(trip['TIMESTAMP'])\n",
        "      time_list=[base_time+ timedelta(seconds=j*15) for j in range(len(value))]\n",
        "      tmp_dataframe=pd.DataFrame(value,columns=['longitude','latitude'])\n",
        "\n",
        "      taxi_id_list=[trip['TAXI_ID'] for k in range(len(value))]\n",
        "      tmp_dataframe['TIMEDATA']=time_list\n",
        "      tmp_dataframe['TAXI_ID']=taxi_id_list\n",
        "      tmp_dataframe=PTRAILDataFrame(data_set=tmp_dataframe,latitude='latitude',longitude='longitude',datetime='TIMEDATA',traj_id='TAXI_ID')\n",
        "      tmp_dataframe=kinematic.create_acceleration_column(tmp_dataframe)\n",
        "      tmp_dataframe=kinematic.create_bearing_column(tmp_dataframe)\n",
        "      if flag==False:\n",
        "        tmp_dataframe.to_csv('data_with_feature/kaggle_data_with_feature_{}.csv'.format(j),index=False,header=True)\n",
        "        flag=True\n",
        "      else:\n",
        "        tmp_dataframe.to_csv('data_with_feature/kaggle_data_with_feature_{}.csv'.format(j),mode='a',index=False,header=False)\n",
        "\n"
      ]
    },
    {
      "cell_type": "code",
      "execution_count": null,
      "metadata": {
        "id": "fXCxg7Fj6Nlf"
      },
      "outputs": [],
      "source": [
        "!cp new_data.csv drive/MyDrive/"
      ]
    },
    {
      "cell_type": "code",
      "execution_count": null,
      "metadata": {
        "colab": {
          "base_uri": "https://localhost:8080/",
          "height": 345
        },
        "id": "-smBlUxTAT0T",
        "outputId": "4a6f629b-b1a9-4de1-cc35-6e32666a9d6c"
      },
      "outputs": [],
      "source": [
        "min_longitude=-8.53901\n",
        "max_longitude=-8.53848\n",
        "min_latitude=41.14460\n",
        "max_latitude=41.14508\n",
        "intersection_points = df.loc[(df['longitude']<max_longitude)&\n",
        "                                            (df['longitude']>min_longitude)&\n",
        "                                            (df['latitude']<max_latitude)&\n",
        "                                            (df['latitude']>min_latitude)]\n",
        "\n",
        "print(\"lenght of data is {}\".format(len(intersection_points)))\n",
        "samples=int(input('ENTER NUMBER OF SAMPLES TO SHOW : '))\n",
        "samples_points=intersection_points.sample(samples)\n",
        "plt.scatter(samples_points.longitude,samples_points.latitude)\n",
        "plt.show()\n",
        "print('############################################')\n",
        "save=input('DO YOU WANT TO SAVE YES,NO ? : ')\n",
        "if save=='yes':\n",
        "  intersection=pd.DataFrame([len(intersection_points)],columns=['lenght_of_data_at_intersection'])\n",
        "  intersection['min_longitude']=min_longitude\n",
        "  intersection['max_longitude']=max_longitude\n",
        "  intersection['min_latitude']=min_latitude\n",
        "  intersection['max_latitude']=max_latitude\n",
        "  intersection.to_csv('points.csv',mode='a',header=False)\n"
      ]
    },
    {
      "cell_type": "code",
      "execution_count": null,
      "metadata": {
        "colab": {
          "base_uri": "https://localhost:8080/"
        },
        "id": "yNW9kx1K5alZ",
        "outputId": "023a8e3f-4257-4c93-8cc9-63852d692d0d"
      },
      "outputs": [],
      "source": [
        "data_mining"
      ]
    },
    {
      "cell_type": "code",
      "execution_count": null,
      "metadata": {
        "id": "-NZIPUA4axQr"
      },
      "outputs": [],
      "source": [
        "!cp points.csv drive/MyDrive/project_codes/DATASETS/"
      ]
    },
    {
      "cell_type": "code",
      "execution_count": null,
      "metadata": {
        "colab": {
          "base_uri": "https://localhost:8080/"
        },
        "id": "67EnBXApw8ks",
        "outputId": "0044bfcd-28c9-4be6-f40e-80577cacb560"
      },
      "outputs": [],
      "source": [
        "c=pd.read_csv('points.csv')\n",
        "c.info()"
      ]
    }
  ],
  "metadata": {
    "colab": {
      "provenance": [],
      "toc_visible": true
    },
    "kernelspec": {
      "display_name": "Python 3",
      "name": "python3"
    },
    "language_info": {
      "name": "python"
    }
  },
  "nbformat": 4,
  "nbformat_minor": 0
}
